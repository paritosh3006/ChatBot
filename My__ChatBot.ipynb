{
 "cells": [
  {
   "cell_type": "code",
   "execution_count": 1,
   "metadata": {},
   "outputs": [],
   "source": [
    "import re\n",
    "import pandas as pd\n",
    "from sklearn.feature_extraction.text import CountVectorizer\n",
    "from collections import Counter"
   ]
  },
  {
   "cell_type": "code",
   "execution_count": 35,
   "metadata": {},
   "outputs": [],
   "source": [
    "data=pd.read_csv(r\"C:\\Users\\Sony\\Desktop\\Documents1.csv\",encoding = \"ISO-8859-1\")"
   ]
  },
  {
   "cell_type": "code",
   "execution_count": 74,
   "metadata": {},
   "outputs": [
    {
     "data": {
      "text/html": [
       "<div>\n",
       "<style scoped>\n",
       "    .dataframe tbody tr th:only-of-type {\n",
       "        vertical-align: middle;\n",
       "    }\n",
       "\n",
       "    .dataframe tbody tr th {\n",
       "        vertical-align: top;\n",
       "    }\n",
       "\n",
       "    .dataframe thead th {\n",
       "        text-align: right;\n",
       "    }\n",
       "</style>\n",
       "<table border=\"1\" class=\"dataframe\">\n",
       "  <thead>\n",
       "    <tr style=\"text-align: right;\">\n",
       "      <th></th>\n",
       "      <th>Unnamed: 0</th>\n",
       "    </tr>\n",
       "  </thead>\n",
       "  <tbody>\n",
       "    <tr>\n",
       "      <th>count</th>\n",
       "      <td>0.0</td>\n",
       "    </tr>\n",
       "    <tr>\n",
       "      <th>mean</th>\n",
       "      <td>NaN</td>\n",
       "    </tr>\n",
       "    <tr>\n",
       "      <th>std</th>\n",
       "      <td>NaN</td>\n",
       "    </tr>\n",
       "    <tr>\n",
       "      <th>min</th>\n",
       "      <td>NaN</td>\n",
       "    </tr>\n",
       "    <tr>\n",
       "      <th>25%</th>\n",
       "      <td>NaN</td>\n",
       "    </tr>\n",
       "    <tr>\n",
       "      <th>50%</th>\n",
       "      <td>NaN</td>\n",
       "    </tr>\n",
       "    <tr>\n",
       "      <th>75%</th>\n",
       "      <td>NaN</td>\n",
       "    </tr>\n",
       "    <tr>\n",
       "      <th>max</th>\n",
       "      <td>NaN</td>\n",
       "    </tr>\n",
       "  </tbody>\n",
       "</table>\n",
       "</div>"
      ],
      "text/plain": [
       "       Unnamed: 0\n",
       "count         0.0\n",
       "mean          NaN\n",
       "std           NaN\n",
       "min           NaN\n",
       "25%           NaN\n",
       "50%           NaN\n",
       "75%           NaN\n",
       "max           NaN"
      ]
     },
     "execution_count": 74,
     "metadata": {},
     "output_type": "execute_result"
    }
   ],
   "source": [
    "data.describe()"
   ]
  },
  {
   "cell_type": "code",
   "execution_count": 75,
   "metadata": {},
   "outputs": [
    {
     "name": "stdout",
     "output_type": "stream",
     "text": [
      "<class 'pandas.core.frame.DataFrame'>\n",
      "RangeIndex: 25 entries, 0 to 24\n",
      "Data columns (total 9 columns):\n",
      "Unnamed: 0                      0 non-null float64\n",
      "question                        25 non-null object\n",
      "answer                          25 non-null object\n",
      "question_punctuation_removed    25 non-null object\n",
      "question_stopword_removed       25 non-null object\n",
      "question_negated                25 non-null object\n",
      "question_descriptive            25 non-null object\n",
      "question_stemmed                25 non-null object\n",
      "modified_sentence               25 non-null object\n",
      "dtypes: float64(1), object(8)\n",
      "memory usage: 1.8+ KB\n"
     ]
    }
   ],
   "source": [
    "data.info()"
   ]
  },
  {
   "cell_type": "code",
   "execution_count": 36,
   "metadata": {},
   "outputs": [
    {
     "name": "stdout",
     "output_type": "stream",
     "text": [
      "Let's explore our question set 0                        how are you doing today ?\n",
      "1                                how is your day ?\n",
      "2                                         good day\n",
      "3                                     good morning\n",
      "4     Hope you have a lovely and beautiful morning\n",
      "5                What a beautiful and pleasant day\n",
      "6                          Have a pleasant morning\n",
      "7                            what a lovely morning\n",
      "8                          how is it going today ?\n",
      "9                                  have a nice day\n",
      "10                                   see you later\n",
      "11                                      good night\n",
      "12                                         bye bye\n",
      "13                               talk to you later\n",
      "14                          see you sometime later\n",
      "15                                 have a nice day\n",
      "16                                talk to you soon\n",
      "17                              make me a sandwich\n",
      "18                      can you make a sandwitch ?\n",
      "19                      having a sandwitch today ?\n",
      "20                               what's for lunch?\n",
      "21                 I want to eat a sandwitch today\n",
      "22                 I do not want a sandwitch today\n",
      "23                             What is in the menu\n",
      "24                               What is for lunch\n",
      "Name: question, dtype: object\n",
      "Length of training set 25\n",
      "Unique answers are {'goodbye', 'sandwitch', 'greeting'}  and number of unique answers are  3\n"
     ]
    }
   ],
   "source": [
    "print (\"Let's explore our question set\",data[\"question\"])\n",
    "print (\"Length of training set\",len(data[\"question\"]))\n",
    "print (\"Unique answers are\",set(data[\"answer\"]),\" and number of unique answers are \", len(set(data[\"answer\"])))"
   ]
  },
  {
   "cell_type": "code",
   "execution_count": 37,
   "metadata": {},
   "outputs": [],
   "source": [
    "##### Now let's create a wordcloud to get a better understanding of our corpus\n",
    "import matplotlib.pyplot as plt\n",
    "from wordcloud import WordCloud\n",
    "##### Download using conda install -c conda-forge wordcloud\n",
    "\n",
    "def show_wordcloud(data, title = None):\n",
    "    wordcloud = WordCloud(background_color='black',).generate(str(data))\n",
    "\n",
    "    fig = plt.figure(1, figsize=(12, 12))\n",
    "    plt.axis('off')\n",
    "    plt.imshow(wordcloud)\n",
    "    plt.show()"
   ]
  },
  {
   "cell_type": "code",
   "execution_count": null,
   "metadata": {},
   "outputs": [],
   "source": []
  },
  {
   "cell_type": "code",
   "execution_count": 38,
   "metadata": {},
   "outputs": [
    {
     "name": "stdout",
     "output_type": "stream",
     "text": [
      "['how', 'are', 'you', 'doing', 'today', '?', 'how', 'is', 'your', 'day', '?', 'good', 'day', 'good', 'morning', 'Hope', 'you', 'have', 'a', 'lovely', 'and', 'beautiful', 'morning', 'What', 'a', 'beautiful', 'and', 'pleasant', 'day', 'Have', 'a', 'pleasant', 'morning', 'what', 'a', 'lovely', 'morning', 'how', 'is', 'it', 'going', 'today', '?', 'have', 'a', 'nice', 'day', 'see', 'you', 'later', 'good', 'night', 'bye', 'bye', 'talk', 'to', 'you', 'later', 'see', 'you', 'sometime', 'later', 'have', 'a', 'nice', 'day', 'talk', 'to', 'you', 'soon', 'make', 'me', 'a', 'sandwich', 'can', 'you', 'make', 'a', 'sandwitch', '?', 'having', 'a', 'sandwitch', 'today', '?', \"what's\", 'for', 'lunch?', 'I', 'want', 'to', 'eat', 'a', 'sandwitch', 'today', 'I', 'do', 'not', 'want', 'a', 'sandwitch', 'today', 'What', 'is', 'in', 'the', 'menu', 'What', 'is', 'for', 'lunch']\n"
     ]
    }
   ],
   "source": [
    "##### Let's change the list of questions into list of words for better visualization\n",
    "word_list=[]\n",
    "list_question=list(data[\"question\"])\n",
    "for sentence in list_question:\n",
    "\twords_sentence=sentence.split()\n",
    "\tfor words in words_sentence:\n",
    "\t\tword_list.append(words)\n",
    "\n",
    "\n",
    "word_list=[word for sentence in list(data[\"question\"]) for word in sentence.split()]\n",
    "print(word_list)"
   ]
  },
  {
   "cell_type": "code",
   "execution_count": 39,
   "metadata": {},
   "outputs": [
    {
     "name": "stdout",
     "output_type": "stream",
     "text": [
      "Counter({'a': 11, 'you': 7, 'today': 5, '?': 5, 'day': 5, 'is': 4, 'morning': 4, 'sandwitch': 4, 'how': 3, 'good': 3, 'have': 3, 'What': 3, 'later': 3, 'to': 3, 'lovely': 2, 'and': 2, 'beautiful': 2, 'pleasant': 2, 'nice': 2, 'see': 2, 'bye': 2, 'talk': 2, 'make': 2, 'for': 2, 'I': 2, 'want': 2, 'are': 1, 'doing': 1, 'your': 1, 'Hope': 1, 'Have': 1, 'what': 1, 'it': 1, 'going': 1, 'night': 1, 'sometime': 1, 'soon': 1, 'me': 1, 'sandwich': 1, 'can': 1, 'having': 1, \"what's\": 1, 'lunch?': 1, 'eat': 1, 'do': 1, 'not': 1, 'in': 1, 'the': 1, 'menu': 1, 'lunch': 1})\n",
      "[('a', 11), ('you', 7), ('today', 5), ('?', 5), ('day', 5)]\n"
     ]
    }
   ],
   "source": [
    "##### Now let's find the frequency of each word and the most common words in the corpus\n",
    "frequency=Counter(word_list)\n",
    "print (frequency)\n",
    "print (frequency.most_common(5))"
   ]
  },
  {
   "cell_type": "code",
   "execution_count": 40,
   "metadata": {},
   "outputs": [
    {
     "data": {
      "image/png": "[encoded data removed]",
      "text/plain": [
       "<Figure size 432x288 with 1 Axes>"
      ]
     },
     "metadata": {
      "needs_background": "light"
     },
     "output_type": "display_data"
    }
   ],
   "source": [
    "import numpy as np\n",
    "\n",
    "labels,values = zip(*frequency.items())\n",
    "labels=[]\n",
    "values=[]\n",
    "for T in frequency.most_common(5):\n",
    "    labels.append(T[0])\n",
    "    values.append(T[1])\n",
    "\n",
    "indexes = np.arange(len(labels))\n",
    "width = 1\n",
    "\n",
    "plt.bar(indexes, values, width)\n",
    "plt.xticks(indexes + width * 0.05, labels)\n",
    "plt.show()"
   ]
  },
  {
   "cell_type": "code",
   "execution_count": 41,
   "metadata": {},
   "outputs": [
    {
     "name": "stdout",
     "output_type": "stream",
     "text": [
      "0                         [how, are, you, doing, today]\n",
      "1                                  [how, is, your, day]\n",
      "2                                           [good, day]\n",
      "3                                       [good, morning]\n",
      "4     [hope, you, have, a, lovely, and, beautiful, m...\n",
      "5              [what, a, beautiful, and, pleasant, day]\n",
      "6                          [have, a, pleasant, morning]\n",
      "7                            [what, a, lovely, morning]\n",
      "8                           [how, is, it, going, today]\n",
      "9                                  [have, a, nice, day]\n",
      "10                                    [see, you, later]\n",
      "11                                        [good, night]\n",
      "12                                           [bye, bye]\n",
      "13                               [talk, to, you, later]\n",
      "14                          [see, you, sometime, later]\n",
      "15                                 [have, a, nice, day]\n",
      "16                                [talk, to, you, soon]\n",
      "17                              [make, me, a, sandwich]\n",
      "18                       [can, you, make, a, sandwitch]\n",
      "19                        [having, a, sandwitch, today]\n",
      "20                                  [whats, for, lunch]\n",
      "21              [i, want, to, eat, a, sandwitch, today]\n",
      "22              [i, do, not, want, a, sandwitch, today]\n",
      "23                            [what, is, in, the, menu]\n",
      "24                               [what, is, for, lunch]\n",
      "Name: question_punctuation_removed, dtype: object\n"
     ]
    }
   ],
   "source": [
    "### Remove Punctuations and change words to lower case\n",
    "def remove_punctuations(text):    \n",
    "    words=[word.lower() for word in text.split()] \n",
    "    words=[w for word in words for w in re.sub(r'[^\\w\\s]','',word).split()]    \n",
    "    return words\n",
    "\n",
    "data[\"question_punctuation_removed\"]=data[\"question\"].apply(remove_punctuations)\n",
    "print (data[\"question_punctuation_removed\"])"
   ]
  },
  {
   "cell_type": "code",
   "execution_count": 42,
   "metadata": {},
   "outputs": [
    {
     "name": "stdout",
     "output_type": "stream",
     "text": [
      "{'ourselves', \"you'll\", 'between', \"that'll\", 'below', 'their', 'your', 'will', 'didn', 'her', 'll', 'are', 'themselves', 'on', 'most', 'how', \"doesn't\", 'about', 'until', 'more', 'while', 'then', 'don', \"should've\", 'am', 'mustn', 'such', 'hasn', 'and', 'its', 'for', 'shan', 'over', 'isn', 'by', 'yourselves', 'few', 'myself', 'o', 'wasn', 'than', \"she's\", 'what', \"didn't\", 'were', 'to', \"you've\", 'is', \"wouldn't\", \"shouldn't\", 'who', 'a', 'into', 'down', 'too', 'but', 'haven', \"aren't\", 'against', 'yourself', 're', 'did', 'just', 'if', 'be', 'other', 'aren', 'have', 'these', 'own', \"hasn't\", 'mightn', 'won', 'does', 'above', 'do', 'we', 'weren', 'you', 'not', 'y', 'with', 'that', 'once', 'the', 'there', 'herself', 'had', 'itself', 'they', 'all', 'hers', 's', 'she', 'out', \"weren't\", \"you're\", 'me', \"wasn't\", 't', 'should', 'during', 'm', 'himself', 'at', 'again', 'in', \"you'd\", 'before', 'shouldn', 've', 'further', 'those', 'which', 'or', 'wouldn', \"haven't\", 'this', 'hadn', \"won't\", 'yours', 'he', 'after', 'off', \"shan't\", 'has', \"don't\", 'being', 'can', 'whom', 'his', 'theirs', 'each', 'been', 'some', 'here', 'i', 'from', 'any', 'my', 'having', 'an', 'why', 'under', 'nor', 'same', \"it's\", 'ain', 'of', \"isn't\", 'it', 'only', 'when', 'no', 'was', 'our', 'now', 'doesn', 'up', \"hadn't\", 'where', 'as', 'd', 'very', \"couldn't\", 'ours', 'so', 'needn', 'both', 'them', 'doing', 'through', 'couldn', 'ma', \"mustn't\", 'because', \"needn't\", 'him', \"mightn't\"}\n",
      "0                                [today]\n",
      "1                                  [day]\n",
      "2                            [good, day]\n",
      "3                        [good, morning]\n",
      "4     [hope, lovely, beautiful, morning]\n",
      "5             [beautiful, pleasant, day]\n",
      "6                    [pleasant, morning]\n",
      "7                      [lovely, morning]\n",
      "8                         [going, today]\n",
      "9                            [nice, day]\n",
      "10                          [see, later]\n",
      "11                         [good, night]\n",
      "12                            [bye, bye]\n",
      "13                         [talk, later]\n",
      "14                [see, sometime, later]\n",
      "15                           [nice, day]\n",
      "16                          [talk, soon]\n",
      "17                      [make, sandwich]\n",
      "18                     [make, sandwitch]\n",
      "19                    [sandwitch, today]\n",
      "20                        [whats, lunch]\n",
      "21         [want, eat, sandwitch, today]\n",
      "22              [want, sandwitch, today]\n",
      "23                                [menu]\n",
      "24                               [lunch]\n",
      "Name: question_stopword_removed, dtype: object\n"
     ]
    }
   ],
   "source": [
    "### Remove StopWords\n",
    "from nltk.corpus import stopwords\n",
    "stop = set(stopwords.words('english'))\n",
    "print (stop)\n",
    "def remove_stopwords(text):\n",
    "\tmodified_word_list=[word for word in text if word not in stop]\n",
    "\treturn modified_word_list\n",
    "\n",
    "data[\"question_stopword_removed\"]=data[\"question_punctuation_removed\"].apply(remove_stopwords)\n",
    "print (data[\"question_stopword_removed\"])"
   ]
  },
  {
   "cell_type": "code",
   "execution_count": 43,
   "metadata": {},
   "outputs": [
    {
     "name": "stdout",
     "output_type": "stream",
     "text": [
      "0                         [how, are, you, doing, today]\n",
      "1                                  [how, is, your, day]\n",
      "2                                           [good, day]\n",
      "3                                       [good, morning]\n",
      "4     [hope, you, have, a, lovely, and, beautiful, m...\n",
      "5              [what, a, beautiful, and, pleasant, day]\n",
      "6                          [have, a, pleasant, morning]\n",
      "7                            [what, a, lovely, morning]\n",
      "8                           [how, is, it, going, today]\n",
      "9                                  [have, a, nice, day]\n",
      "10                                    [see, you, later]\n",
      "11                                        [good, night]\n",
      "12                                           [bye, bye]\n",
      "13                               [talk, to, you, later]\n",
      "14                          [see, you, sometime, later]\n",
      "15                                 [have, a, nice, day]\n",
      "16                                [talk, to, you, soon]\n",
      "17                              [make, me, a, sandwich]\n",
      "18                       [can, you, make, a, sandwitch]\n",
      "19                        [having, a, sandwitch, today]\n",
      "20                                  [whats, for, lunch]\n",
      "21              [i, want, to, eat, a, sandwitch, today]\n",
      "22               [i, do, not-want, a, sandwitch, today]\n",
      "23                            [what, is, in, the, menu]\n",
      "24                               [what, is, for, lunch]\n",
      "Name: question_negated, dtype: object\n"
     ]
    }
   ],
   "source": [
    "def negation_handling(words):\n",
    "    counter=False    \n",
    "    wlist=[]    \n",
    "    negations=[\"no\",\"not\",\"cant\",\"cannot\",\"never\",\"less\",\"without\",\"barely\",\"hardly\",\"rarely\",\"no\",\"not\",\"noway\",\"didnt\"]\n",
    "    #for words in wordlist:       \n",
    "    for i,j in enumerate(words):                           \n",
    "            if j in negations and i<len(words)-1:             \n",
    "                wlist.append(str(words[i]+'-'+words[i+1]))\n",
    "                counter=True\n",
    "            else:\n",
    "                if counter is False:                \n",
    "                    wlist.append(words[i])\n",
    "                else:\n",
    "                    counter=False\n",
    "    return wlist\n",
    "\n",
    "data[\"question_negated\"]=data[\"question_punctuation_removed\"].apply(negation_handling)\n",
    "print (data[\"question_negated\"])"
   ]
  },
  {
   "cell_type": "code",
   "execution_count": 44,
   "metadata": {},
   "outputs": [
    {
     "name": "stdout",
     "output_type": "stream",
     "text": [
      "0                          [are, doing, today]\n",
      "1                                        [day]\n",
      "2                                  [good, day]\n",
      "3                              [good, morning]\n",
      "4     [hope, have, lovely, beautiful, morning]\n",
      "5                   [beautiful, pleasant, day]\n",
      "6                    [have, pleasant, morning]\n",
      "7                            [lovely, morning]\n",
      "8                               [going, today]\n",
      "9                            [have, nice, day]\n",
      "10                                [see, later]\n",
      "11                               [good, night]\n",
      "12                                  [bye, bye]\n",
      "13                               [talk, later]\n",
      "14                      [see, sometime, later]\n",
      "15                           [have, nice, day]\n",
      "16                                [talk, soon]\n",
      "17                            [make, sandwich]\n",
      "18                           [make, sandwitch]\n",
      "19                  [having, sandwitch, today]\n",
      "20                                     [lunch]\n",
      "21            [i, want, eat, sandwitch, today]\n",
      "22            [do, not-want, sandwitch, today]\n",
      "23                                      [menu]\n",
      "24                                     [lunch]\n",
      "Name: question_descriptive, dtype: object\n"
     ]
    }
   ],
   "source": [
    "from nltk.tag import pos_tag\n",
    "def descriptive_words(words):\n",
    "    meaningful_words=[]    \n",
    "    tags=['VB','VBP','VBD','VBG','VBN','JJ','JJR','JJS','RB','RBR','RBS','UH',\"NN\",'NNP']    \n",
    "    tagged_word=pos_tag(words)\n",
    "    for word in tagged_word:            \n",
    "        if word[1] in tags:\n",
    "            meaningful_words.append(word[0])\n",
    "    return meaningful_words \n",
    "data[\"question_descriptive\"]=data[\"question_negated\"].apply(descriptive_words)\n",
    "print (data[\"question_descriptive\"])"
   ]
  },
  {
   "cell_type": "code",
   "execution_count": 45,
   "metadata": {},
   "outputs": [
    {
     "name": "stdout",
     "output_type": "stream",
     "text": [
      "0                     [are, do, today]\n",
      "1                                [day]\n",
      "2                          [good, day]\n",
      "3                         [good, morn]\n",
      "4     [hope, have, love, beauti, morn]\n",
      "5              [beauti, pleasant, day]\n",
      "6               [have, pleasant, morn]\n",
      "7                         [love, morn]\n",
      "8                          [go, today]\n",
      "9                    [have, nice, day]\n",
      "10                        [see, later]\n",
      "11                       [good, night]\n",
      "12                          [bye, bye]\n",
      "13                       [talk, later]\n",
      "14               [see, sometim, later]\n",
      "15                   [have, nice, day]\n",
      "16                        [talk, soon]\n",
      "17                    [make, sandwich]\n",
      "18                   [make, sandwitch]\n",
      "19            [have, sandwitch, today]\n",
      "20                             [lunch]\n",
      "21    [i, want, eat, sandwitch, today]\n",
      "22    [do, not-want, sandwitch, today]\n",
      "23                              [menu]\n",
      "24                             [lunch]\n",
      "Name: question_stemmed, dtype: object\n"
     ]
    }
   ],
   "source": [
    "### Stemming of Words\n",
    "from nltk.stem.porter import PorterStemmer\n",
    "st=PorterStemmer()\n",
    "def Stemming(text):\n",
    "\tstemmed_words=[st.stem(word) for word in text] \n",
    "\treturn stemmed_words\n",
    "\n",
    "data[\"question_stemmed\"]=data[\"question_descriptive\"].apply(Stemming)\n",
    "print (data[\"question_stemmed\"])"
   ]
  },
  {
   "cell_type": "code",
   "execution_count": 46,
   "metadata": {},
   "outputs": [
    {
     "name": "stdout",
     "output_type": "stream",
     "text": [
      "0                    are do today\n",
      "1                             day\n",
      "2                        good day\n",
      "3                       good morn\n",
      "4      hope have love beauti morn\n",
      "5             beauti pleasant day\n",
      "6              have pleasant morn\n",
      "7                       love morn\n",
      "8                        go today\n",
      "9                   have nice day\n",
      "10                      see later\n",
      "11                     good night\n",
      "12                        bye bye\n",
      "13                     talk later\n",
      "14              see sometim later\n",
      "15                  have nice day\n",
      "16                      talk soon\n",
      "17                  make sandwich\n",
      "18                 make sandwitch\n",
      "19           have sandwitch today\n",
      "20                          lunch\n",
      "21     i want eat sandwitch today\n",
      "22    do not-want sandwitch today\n",
      "23                           menu\n",
      "24                          lunch\n",
      "Name: modified_sentence, dtype: object\n"
     ]
    }
   ],
   "source": [
    "### Recreating the sentence\n",
    "def Recreate(text):\n",
    "\tword=\" \".join(text)\n",
    "\treturn word\n",
    "\n",
    "data[\"modified_sentence\"]=data[\"question_stemmed\"].apply(Recreate)\n",
    "print (data[\"modified_sentence\"])"
   ]
  },
  {
   "cell_type": "code",
   "execution_count": 47,
   "metadata": {},
   "outputs": [
    {
     "name": "stdout",
     "output_type": "stream",
     "text": [
      "0                    are do today\n",
      "1                             day\n",
      "2                        good day\n",
      "3                       good morn\n",
      "4      hope have love beauti morn\n",
      "5             beauti pleasant day\n",
      "6              have pleasant morn\n",
      "7                       love morn\n",
      "8                        go today\n",
      "9                   have nice day\n",
      "10                      see later\n",
      "11                     good night\n",
      "12                        bye bye\n",
      "13                     talk later\n",
      "14              see sometim later\n",
      "15                  have nice day\n",
      "16                      talk soon\n",
      "17                  make sandwich\n",
      "18                 make sandwitch\n",
      "19           have sandwitch today\n",
      "20                          lunch\n",
      "21     i want eat sandwitch today\n",
      "22    do not-want sandwitch today\n",
      "23                           menu\n",
      "24                          lunch\n",
      "Name: modified_sentence, dtype: object\n"
     ]
    }
   ],
   "source": [
    "def Cleaning(text):\n",
    "    text_punctuation_removed=remove_punctuations(text)\n",
    "    #text_stopword_removed=remove_stopwords(text_punctuation_removed)\n",
    "    text_unnegated=negation_handling(text_punctuation_removed)\n",
    "    text_descriptive=descriptive_words(text_unnegated)\n",
    "    text_stemmed=Stemming(text_descriptive)\n",
    "    final_text=Recreate(text_stemmed)\n",
    "    return final_text\n",
    "data[\"modified_sentence\"]=data[\"question\"].apply(Cleaning)\n",
    "print (data[\"modified_sentence\"])"
   ]
  },
  {
   "cell_type": "code",
   "execution_count": 48,
   "metadata": {},
   "outputs": [
    {
     "name": "stdout",
     "output_type": "stream",
     "text": [
      "[[0 1 0 ... 0 1 0]\n",
      " [0 0 0 ... 0 0 1]\n",
      " [0 0 0 ... 0 0 0]\n",
      " ...\n",
      " [0 0 0 ... 0 0 0]\n",
      " [0 0 0 ... 1 0 0]\n",
      " [0 0 0 ... 1 0 0]]\n",
      "['and', 'are', 'beautiful', 'bye', 'can', 'day', 'do', 'doing', 'eat', 'for', 'going', 'good', 'have', 'having', 'hope', 'how', 'in', 'is', 'it', 'later', 'lovely', 'lunch', 'make', 'me', 'menu', 'morning', 'nice', 'night', 'not', 'pleasant', 'sandwich', 'sandwitch', 'see', 'sometime', 'soon', 'talk', 'the', 'to', 'today', 'want', 'what', 'you', 'your']\n"
     ]
    }
   ],
   "source": [
    "### Let's change the sentence into a bag of word model\n",
    "from sklearn.feature_extraction.text import CountVectorizer\n",
    "vectorizer = CountVectorizer()\n",
    "X = vectorizer.fit_transform(data[\"question\"]).toarray()\n",
    "print(X)\n",
    "print(vectorizer.get_feature_names())"
   ]
  },
  {
   "cell_type": "code",
   "execution_count": 49,
   "metadata": {},
   "outputs": [],
   "source": [
    "###### Extra Tf-idf transformation and DataPipelines\n",
    "from sklearn.feature_extraction.text import TfidfTransformer\n",
    "from sklearn.pipeline import Pipeline, FeatureUnion\n",
    "model = Pipeline([('vectoizer', CountVectorizer()),\n",
    " ('tfidf', TfidfTransformer())])\n",
    "\n",
    "X_train = model.fit_transform(data[\"modified_sentence\"]).toarray()"
   ]
  },
  {
   "cell_type": "code",
   "execution_count": 50,
   "metadata": {},
   "outputs": [
    {
     "name": "stdout",
     "output_type": "stream",
     "text": [
      "[[0.66458888 0.         0.         0.         0.58900082 0.\n",
      "  0.         0.         0.         0.         0.         0.\n",
      "  0.         0.         0.         0.         0.         0.\n",
      "  0.         0.         0.         0.         0.         0.\n",
      "  0.         0.         0.45978218 0.        ]\n",
      " [0.         0.         0.         1.         0.         0.\n",
      "  0.         0.         0.         0.         0.         0.\n",
      "  0.         0.         0.         0.         0.         0.\n",
      "  0.         0.         0.         0.         0.         0.\n",
      "  0.         0.         0.         0.        ]\n",
      " [0.         0.         0.         0.65152087 0.         0.\n",
      "  0.         0.75863071 0.         0.         0.         0.\n",
      "  0.         0.         0.         0.         0.         0.\n",
      "  0.         0.         0.         0.         0.         0.\n",
      "  0.         0.         0.         0.        ]\n",
      " [0.         0.         0.         0.         0.         0.\n",
      "  0.         0.7350886  0.         0.         0.         0.\n",
      "  0.         0.         0.         0.67797106 0.         0.\n",
      "  0.         0.         0.         0.         0.         0.\n",
      "  0.         0.         0.         0.        ]\n",
      " [0.         0.46700056 0.         0.         0.         0.\n",
      "  0.         0.         0.36454709 0.526932   0.         0.46700056\n",
      "  0.         0.         0.         0.39149588 0.         0.\n",
      "  0.         0.         0.         0.         0.         0.\n",
      "  0.         0.         0.         0.        ]\n",
      " [0.         0.61906061 0.         0.48324727 0.         0.\n",
      "  0.         0.         0.         0.         0.         0.\n",
      "  0.         0.         0.         0.         0.         0.\n",
      "  0.         0.61906061 0.         0.         0.         0.\n",
      "  0.         0.         0.         0.        ]\n",
      " [0.         0.         0.         0.         0.         0.\n",
      "  0.         0.         0.51336864 0.         0.         0.\n",
      "  0.         0.         0.         0.55131892 0.         0.\n",
      "  0.         0.65764739 0.         0.         0.         0.\n",
      "  0.         0.         0.         0.        ]\n",
      " [0.         0.         0.         0.         0.         0.\n",
      "  0.         0.         0.         0.         0.         0.76633858\n",
      "  0.         0.         0.         0.64243691 0.         0.\n",
      "  0.         0.         0.         0.         0.         0.\n",
      "  0.         0.         0.         0.        ]\n",
      " [0.         0.         0.         0.         0.         0.\n",
      "  0.8223762  0.         0.         0.         0.         0.\n",
      "  0.         0.         0.         0.         0.         0.\n",
      "  0.         0.         0.         0.         0.         0.\n",
      "  0.         0.         0.5689441  0.        ]\n",
      " [0.         0.         0.         0.52406528 0.         0.\n",
      "  0.         0.         0.52406528 0.         0.         0.\n",
      "  0.         0.         0.         0.         0.67135025 0.\n",
      "  0.         0.         0.         0.         0.         0.\n",
      "  0.         0.         0.         0.        ]\n",
      " [0.         0.         0.         0.         0.         0.\n",
      "  0.         0.         0.         0.         0.67261429 0.\n",
      "  0.         0.         0.         0.         0.         0.\n",
      "  0.         0.         0.         0.         0.73999326 0.\n",
      "  0.         0.         0.         0.        ]\n",
      " [0.         0.         0.         0.         0.         0.\n",
      "  0.         0.62733449 0.         0.         0.         0.\n",
      "  0.         0.         0.         0.         0.         0.77874992\n",
      "  0.         0.         0.         0.         0.         0.\n",
      "  0.         0.         0.         0.        ]\n",
      " [0.         0.         1.         0.         0.         0.\n",
      "  0.         0.         0.         0.         0.         0.\n",
      "  0.         0.         0.         0.         0.         0.\n",
      "  0.         0.         0.         0.         0.         0.\n",
      "  0.         0.         0.         0.        ]\n",
      " [0.         0.         0.         0.         0.         0.\n",
      "  0.         0.         0.         0.         0.67261429 0.\n",
      "  0.         0.         0.         0.         0.         0.\n",
      "  0.         0.         0.         0.         0.         0.\n",
      "  0.         0.73999326 0.         0.        ]\n",
      " [0.         0.         0.         0.         0.         0.\n",
      "  0.         0.         0.         0.         0.51630369 0.\n",
      "  0.         0.         0.         0.         0.         0.\n",
      "  0.         0.         0.         0.         0.56802428 0.64092037\n",
      "  0.         0.         0.         0.        ]\n",
      " [0.         0.         0.         0.52406528 0.         0.\n",
      "  0.         0.         0.52406528 0.         0.         0.\n",
      "  0.         0.         0.         0.         0.67135025 0.\n",
      "  0.         0.         0.         0.         0.         0.\n",
      "  0.         0.         0.         0.        ]\n",
      " [0.         0.         0.         0.         0.         0.\n",
      "  0.         0.         0.         0.         0.         0.\n",
      "  0.         0.         0.         0.         0.         0.\n",
      "  0.         0.         0.         0.         0.         0.\n",
      "  0.74838416 0.66326552 0.         0.        ]\n",
      " [0.         0.         0.         0.         0.         0.\n",
      "  0.         0.         0.         0.         0.         0.\n",
      "  0.         0.66326552 0.         0.         0.         0.\n",
      "  0.         0.         0.74838416 0.         0.         0.\n",
      "  0.         0.         0.         0.        ]\n",
      " [0.         0.         0.         0.         0.         0.\n",
      "  0.         0.         0.         0.         0.         0.\n",
      "  0.         0.76633858 0.         0.         0.         0.\n",
      "  0.         0.         0.         0.64243691 0.         0.\n",
      "  0.         0.         0.         0.        ]\n",
      " [0.         0.         0.         0.         0.         0.\n",
      "  0.         0.         0.56314012 0.         0.         0.\n",
      "  0.         0.         0.         0.         0.         0.\n",
      "  0.         0.         0.         0.60476971 0.         0.\n",
      "  0.         0.         0.56314012 0.        ]\n",
      " [0.         0.         0.         0.         0.         0.\n",
      "  0.         0.         0.         0.         0.         0.\n",
      "  1.         0.         0.         0.         0.         0.\n",
      "  0.         0.         0.         0.         0.         0.\n",
      "  0.         0.         0.         0.        ]\n",
      " [0.         0.         0.         0.         0.         0.59590367\n",
      "  0.         0.         0.         0.         0.         0.\n",
      "  0.         0.         0.         0.         0.         0.\n",
      "  0.         0.         0.         0.44273992 0.         0.\n",
      "  0.         0.         0.41226373 0.52812763]\n",
      " [0.         0.         0.         0.         0.46700056 0.\n",
      "  0.         0.         0.         0.         0.         0.\n",
      "  0.         0.         0.         0.         0.         0.\n",
      "  0.526932   0.         0.         0.39149588 0.         0.\n",
      "  0.         0.         0.36454709 0.46700056]\n",
      " [0.         0.         0.         0.         0.         0.\n",
      "  0.         0.         0.         0.         0.         0.\n",
      "  0.         0.         1.         0.         0.         0.\n",
      "  0.         0.         0.         0.         0.         0.\n",
      "  0.         0.         0.         0.        ]\n",
      " [0.         0.         0.         0.         0.         0.\n",
      "  0.         0.         0.         0.         0.         0.\n",
      "  1.         0.         0.         0.         0.         0.\n",
      "  0.         0.         0.         0.         0.         0.\n",
      "  0.         0.         0.         0.        ]]\n"
     ]
    }
   ],
   "source": [
    "print(X_train)"
   ]
  },
  {
   "cell_type": "code",
   "execution_count": 79,
   "metadata": {},
   "outputs": [],
   "source": [
    "Y=data[\"answer\"]\n",
    "question=\"have a nice day\""
   ]
  },
  {
   "cell_type": "code",
   "execution_count": 80,
   "metadata": {},
   "outputs": [
    {
     "name": "stdout",
     "output_type": "stream",
     "text": [
      "['goodbye']\n"
     ]
    },
    {
     "name": "stderr",
     "output_type": "stream",
     "text": [
      "C:\\Users\\Sony\\Anaconda3\\lib\\site-packages\\sklearn\\linear_model\\logistic.py:433: FutureWarning: Default solver will be changed to 'lbfgs' in 0.22. Specify a solver to silence this warning.\n",
      "  FutureWarning)\n",
      "C:\\Users\\Sony\\Anaconda3\\lib\\site-packages\\sklearn\\linear_model\\logistic.py:460: FutureWarning: Default multi_class will be changed to 'auto' in 0.22. Specify the multi_class option to silence this warning.\n",
      "  \"this warning.\", FutureWarning)\n"
     ]
    }
   ],
   "source": [
    "### Let's create our first Classification model\n",
    "\n",
    "from sklearn.linear_model import LogisticRegression\n",
    "clf1 = LogisticRegression().fit(X_train, Y)\n",
    "\n",
    "P=model.transform([Cleaning(question)])\n",
    "predict1=clf1.predict(P)\n",
    "print (predict1)"
   ]
  },
  {
   "cell_type": "code",
   "execution_count": 81,
   "metadata": {},
   "outputs": [
    {
     "name": "stdout",
     "output_type": "stream",
     "text": [
      "['goodbye']\n"
     ]
    }
   ],
   "source": [
    "from sklearn.naive_bayes import MultinomialNB\n",
    "clf2 = MultinomialNB().fit(X_train, Y)\n",
    "\n",
    "P=model.transform([Cleaning(question)])\n",
    "predict2=clf2.predict(P)\n",
    "print (predict2)"
   ]
  },
  {
   "cell_type": "code",
   "execution_count": 82,
   "metadata": {},
   "outputs": [
    {
     "name": "stdout",
     "output_type": "stream",
     "text": [
      "['goodbye']\n"
     ]
    }
   ],
   "source": [
    "from sklearn.tree import DecisionTreeClassifier\n",
    "clf3 = DecisionTreeClassifier().fit(X_train, Y)\n",
    "\n",
    "P=model.transform([Cleaning(question)])\n",
    "predict3=clf3.predict(P)\n",
    "print (predict3)"
   ]
  },
  {
   "cell_type": "code",
   "execution_count": 92,
   "metadata": {},
   "outputs": [
    {
     "name": "stdout",
     "output_type": "stream",
     "text": [
      "<pydotplus.graphviz.Dot object at 0x00000262E35627F0>\n"
     ]
    }
   ],
   "source": [
    "from sklearn import tree\n",
    "from sklearn.externals.six import StringIO \n",
    "from sklearn.tree import export_graphviz\n",
    "import pydotplus\n",
    "\n",
    "dot_data = StringIO()\n",
    "export_graphviz(clf3, out_file=dot_data,  \n",
    "                filled=True, rounded=True,\n",
    "                special_characters=True)\n",
    "graph = pydotplus.graph_from_dot_data(dot_data.getvalue())\n",
    "\n",
    "print (graph)\n",
    "graph.write_pdf(\"iris.pdf\")\n",
    "from IPython.display import Image\n",
    "\n",
    "#Image(graph.create_png())"
   ]
  },
  {
   "cell_type": "code",
   "execution_count": 84,
   "metadata": {},
   "outputs": [
    {
     "name": "stdout",
     "output_type": "stream",
     "text": [
      "Thus answer to your question is goodbye\n"
     ]
    }
   ],
   "source": [
    "final_predict=[]\n",
    "final_predict=list(predict1)+list(predict2)+list(predict3)\n",
    "final_predict = Counter(final_predict)\n",
    "print (\"Thus answer to your question is\",final_predict.most_common(1)[0][0])"
   ]
  },
  {
   "cell_type": "code",
   "execution_count": 85,
   "metadata": {},
   "outputs": [],
   "source": [
    "def Predict(text):\n",
    "    P=model.transform([Cleaning(text)])\n",
    "    predict1=clf1.predict(P)\n",
    "    #print (predict1)\n",
    "\n",
    "    predict2=clf2.predict(P)\n",
    "    #print (predict2)\n",
    "    \n",
    "    predict3=clf3.predict(P)\n",
    "    #print (predict3)\n",
    "    \n",
    "    final_predict=[]\n",
    "    final_predict=list(predict1)+list(predict2)+list(predict3)\n",
    "    final_predict = Counter(final_predict)\n",
    "    print (\"Class of Question belongs to = \",final_predict.most_common(1)[0][0])\n",
    "    \n",
    "    return final_predict.most_common(1)[0][0]"
   ]
  },
  {
   "cell_type": "code",
   "execution_count": 86,
   "metadata": {},
   "outputs": [],
   "source": [
    "##### Finding the most similar sentence\n",
    "#from sklearn.metrics.pairwise import linear_kernel\n",
    "\n",
    "#cosine_similarities = linear_kernel(X_train[1], X_train).flatten()\n",
    "#print (\"Cosine Similarity of\",data[\"question\"][0],\"with all questions in Corpus\",cosine_similarities)\n",
    "#index=[i+1 for i in range(len(X))]\n",
    "#print (index)\n",
    "#print (\"top 3 most similar question's to\",data[\"question\"][0],\"are :\")\n",
    "#print (sorted(zip(cosine_similarities, index, data[\"question\"][index]), reverse=True)[:3])\n",
    "#print (\"Thus answer to your question is \", max(data[\"answer\"][index[0]],data[\"answer\"][index[1]],data[\"answer\"][index[3]]))"
   ]
  },
  {
   "cell_type": "code",
   "execution_count": 87,
   "metadata": {},
   "outputs": [],
   "source": [
    "###### Generate Answers ######\n",
    "answer_dictionary={\"greeting\":[\"Have a happy day\",\"Good morning\",\"Have a pleasant day\",\"Good Day\"],\n",
    "                  \"sandwitch\":[\"What kind of Sandwitch do you like\",\"Sandwitches are great\",\"Sandwitches are delicious\",\"I love sandwitch too\"],\n",
    "                  \"goodbye\":[\"Goodbye\",\"Have a good day\",\"Was nice meeting you\",\"See you later\"]}"
   ]
  },
  {
   "cell_type": "code",
   "execution_count": 88,
   "metadata": {},
   "outputs": [],
   "source": [
    "import random\n",
    "\n",
    "def generate_answer(predict_class):\n",
    "    ans=random.choice(answer_dictionary[predict_class])\n",
    "    return ans"
   ]
  },
  {
   "cell_type": "code",
   "execution_count": 94,
   "metadata": {},
   "outputs": [
    {
     "name": "stdout",
     "output_type": "stream",
     "text": [
      "Enter Question =good day\n",
      "Class of Question belongs to =  greeting\n",
      "Answer =  Have a happy day\n"
     ]
    }
   ],
   "source": [
    "###### The ChatBot #######\n",
    "question = input(\"Enter Question =\")\n",
    "prediction=Predict(question)\n",
    "ans=generate_answer(prediction)\n",
    "print(\"Answer = \",ans)"
   ]
  },
  {
   "cell_type": "code",
   "execution_count": 90,
   "metadata": {},
   "outputs": [
    {
     "name": "stdout",
     "output_type": "stream",
     "text": [
      "Class of Question belongs to =  goodbye\n",
      "goodbye\n",
      "Class of Question belongs to =  sandwitch\n",
      "sandwitch\n",
      "Class of Question belongs to =  greeting\n",
      "greeting\n",
      "['goodbye', 'sandwitch', 'greeting']\n",
      "['greeting', 'sandwitch', 'greeting']\n",
      "[[0 0 0]\n",
      " [1 1 0]\n",
      " [0 0 1]]\n"
     ]
    }
   ],
   "source": [
    "### Checking Accuracy of the Classifier\n",
    "from sklearn.model_selection import train_test_split\n",
    "from sklearn.metrics import confusion_matrix\n",
    "\n",
    "#X_train, X_test, Y_train, Y_test = train_test_split(data[\"question\"], data[\"answer\"], random_state=0)\n",
    "\n",
    "X_test=[\"have a nice day\",\"what's for lunch\",\"how are you\"]\n",
    "Y_test=[\"greeting\",\"sandwitch\",\"greeting\"]\n",
    "\n",
    "Y_pred=[]\n",
    "for i in X_test:\n",
    "    prediction=Predict(i)\n",
    "    print(prediction)\n",
    "    Y_pred.append(prediction)\n",
    "print (Y_pred)\n",
    "print (Y_test)\n",
    "cnf_matrix = confusion_matrix(Y_test,Y_pred)\n",
    "print (cnf_matrix)"
   ]
  },
  {
   "cell_type": "code",
   "execution_count": 91,
   "metadata": {},
   "outputs": [
    {
     "name": "stdout",
     "output_type": "stream",
     "text": [
      "[[0 0 0]\n",
      " [1 1 0]\n",
      " [0 0 1]]\n"
     ]
    },
    {
     "data": {
      "image/png": "[encoded data removed]",
      "text/plain": [
       "<Figure size 432x288 with 2 Axes>"
      ]
     },
     "metadata": {
      "needs_background": "light"
     },
     "output_type": "display_data"
    }
   ],
   "source": [
    "import numpy as np\n",
    "import itertools\n",
    "def plot_confusion_matrix(cm, classes,\n",
    "                          title='Confusion matrix',\n",
    "                          cmap=plt.cm.Blues):\n",
    "\n",
    "    print(cm)\n",
    "\n",
    "    plt.imshow(cm, interpolation='nearest', cmap=cmap)\n",
    "    plt.title(title)\n",
    "    plt.colorbar()\n",
    "    fmt = '.2f'\n",
    "    thresh = cm.max() / 2.\n",
    "    for i, j in itertools.product(range(cm.shape[0]), range(cm.shape[1])):\n",
    "        plt.text(j, i, format(cm[i, j], fmt),\n",
    "                 horizontalalignment=\"center\",\n",
    "                 color=\"red\" if cm[i, j] > thresh else \"blue\")\n",
    "\n",
    "    plt.ylabel('True label')\n",
    "    plt.xlabel('Predicted label')\n",
    "    plt.tight_layout()\n",
    "    plt.show()\n",
    "plot_confusion_matrix(cnf_matrix, classes=[\"+\",\"-\"],title='Confusion matrix')"
   ]
  },
  {
   "cell_type": "code",
   "execution_count": null,
   "metadata": {},
   "outputs": [],
   "source": []
  }
 ],
 "metadata": {
  "kernelspec": {
   "display_name": "Python 3",
   "language": "python",
   "name": "python3"
  },
  "language_info": {
   "codemirror_mode": {
    "name": "ipython",
    "version": 3
   },
   "file_extension": ".py",
   "mimetype": "text/x-python",
   "name": "python",
   "nbconvert_exporter": "python",
   "pygments_lexer": "ipython3",
   "version": "3.6.8"
  }
 },
 "nbformat": 4,
 "nbformat_minor": 2
}
